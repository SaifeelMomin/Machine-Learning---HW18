{
 "cells": [
  {
   "cell_type": "code",
   "execution_count": 1,
   "metadata": {},
   "outputs": [],
   "source": [
    "import pandas as pd\n",
    "import re\n",
    "from sklearn.model_selection import cross_validate\n",
    "from sklearn.linear_model import LinearRegression, BayesianRidge\n",
    "from sklearn.ensemble import RandomForestRegressor, RandomForestClassifier, BaggingRegressor, AdaBoostRegressor, GradientBoostingRegressor\n",
    "from sklearn.tree import ExtraTreeRegressor\n",
    "from sklearn.model_selection import train_test_split\n",
    "from sklearn.metrics import confusion_matrix\n",
    "from sklearn.metrics import mean_squared_error\n",
    "from sklearn.gaussian_process import GaussianProcessRegressor\n",
    "from sklearn.model_selection import KFold\n",
    "import joblib\n",
    "# from preprocess import prep_data"
   ]
  },
  {
   "cell_type": "code",
   "execution_count": 2,
   "metadata": {},
   "outputs": [],
   "source": [
    "def prep_data(df):\n",
    "\n",
    "#     df = df.assign(hw=df[\"Height\"] * df[\"Width\"])\n",
    "\n",
    "    X = df[['Length1', 'Length2', 'Length3']].values\n",
    "    y = df[\"Weight\"].values\n",
    "\n",
    "    return X, y"
   ]
  },
  {
   "cell_type": "code",
   "execution_count": 3,
   "metadata": {},
   "outputs": [],
   "source": [
    "df = pd.read_csv(\"fish_participant.csv\")\n",
    "df = df.assign(lavg = (df[\"Length1\"] + df[\"Length2\"] + df[\"Length3\"])/3)\n",
    "\n",
    "# X, y = prep_data(df)\n"
   ]
  },
  {
   "cell_type": "code",
   "execution_count": 9,
   "metadata": {},
   "outputs": [],
   "source": [
    "# train, test = train_test_split(df, random_state=44, test_size=.4, stratify=df[\"Species\"])\n",
    "# X = train[['Length1', 'Length2', 'Length3', 'Width', 'Height']].values\n",
    "# y = train['Weight'].values"
   ]
  },
  {
   "cell_type": "code",
   "execution_count": 10,
   "metadata": {},
   "outputs": [],
   "source": [
    "# X_test = df[['Length1', 'Length2', 'Length3', 'Width', 'Height']].values\n"
   ]
  },
  {
   "cell_type": "code",
   "execution_count": 4,
   "metadata": {},
   "outputs": [],
   "source": [
    "X = df[['Length1', 'Length2', 'Length3', 'Width', 'Height']].values\n",
    "y = df['Weight']"
   ]
  },
  {
   "cell_type": "code",
   "execution_count": 5,
   "metadata": {
    "collapsed": true,
    "jupyter": {
     "outputs_hidden": true
    }
   },
   "outputs": [
    {
     "name": "stdout",
     "output_type": "stream",
     "text": [
      "KFold(n_splits=10, random_state=444, shuffle=True)\n",
      "TRAIN: [  0   1   2   3   4   5   6   7   8   9  10  11  12  13  14  15  16  18\n",
      "  21  22  23  24  25  26  27  28  29  30  31  32  34  35  36  38  39  40\n",
      "  41  42  43  45  46  47  48  50  51  52  53  54  56  57  58  59  60  62\n",
      "  63  64  65  66  67  68  69  70  71  72  73  74  75  76  77  78  79  80\n",
      "  81  82  83  84  85  86  88  89  90  91  92  93  95  96  97  98  99 100\n",
      " 101 102 103 104 105 107 108 109 110] TEST: [ 17  19  20  33  37  44  49  55  61  87  94 106]\n",
      "TRAIN: [  0   1   2   3   4   5   6   7   8   9  10  11  12  13  15  16  17  18\n",
      "  19  20  21  23  24  25  26  27  29  30  31  32  33  34  35  36  37  38\n",
      "  39  41  42  43  44  45  46  47  48  49  51  52  53  54  55  56  57  58\n",
      "  59  60  61  62  64  65  66  67  68  69  70  71  72  73  74  75  76  78\n",
      "  79  80  82  83  84  85  86  87  88  89  90  91  93  94  95  96  97  99\n",
      " 100 101 102 103 104 105 106 107 109 110] TEST: [ 14  22  28  40  50  63  77  81  92  98 108]\n",
      "TRAIN: [  0   1   2   3   4   6   7   8   9  10  11  12  13  14  16  17  18  19\n",
      "  20  21  22  23  24  25  26  27  28  31  32  33  34  35  37  38  39  40\n",
      "  41  42  43  44  45  46  47  48  49  50  51  52  53  54  55  56  57  59\n",
      "  60  61  62  63  64  65  66  67  70  71  72  73  74  76  77  78  79  80\n",
      "  81  82  84  86  87  88  89  90  91  92  93  94  95  96  97  98  99 100\n",
      " 101 102 103 104 105 106 107 108 109 110] TEST: [ 5 15 29 30 36 58 68 69 75 83 85]\n",
      "TRAIN: [  0   1   2   3   5   6   7   8  10  12  13  14  15  16  17  18  19  20\n",
      "  22  23  24  25  26  27  28  29  30  31  32  33  34  35  36  37  40  41\n",
      "  42  44  45  46  47  48  49  50  51  52  53  54  55  56  58  59  60  61\n",
      "  62  63  64  65  66  67  68  69  70  72  73  74  75  76  77  78  79  80\n",
      "  81  82  83  84  85  86  87  88  89  90  91  92  93  94  96  97  98  99\n",
      " 100 101 102 103 104 105 106 108 109 110] TEST: [  4   9  11  21  38  39  43  57  71  95 107]\n",
      "TRAIN: [  0   2   3   4   5   6   7   8   9  10  11  12  13  14  15  16  17  18\n",
      "  19  20  21  22  23  24  25  26  28  29  30  33  34  35  36  37  38  39\n",
      "  40  41  43  44  45  46  48  49  50  51  52  53  54  55  57  58  59  60\n",
      "  61  63  64  65  66  67  68  69  70  71  72  73  74  75  76  77  78  79\n",
      "  80  81  82  83  84  85  86  87  88  89  91  92  93  94  95  96  97  98\n",
      "  99 100 102 103 105 106 107 108 109 110] TEST: [  1  27  31  32  42  47  56  62  90 101 104]\n",
      "TRAIN: [  0   1   2   3   4   5   7   8   9  10  11  12  13  14  15  16  17  18\n",
      "  19  20  21  22  23  24  25  26  27  28  29  30  31  32  33  34  35  36\n",
      "  37  38  39  40  41  42  43  44  47  48  49  50  51  52  54  55  56  57\n",
      "  58  59  60  61  62  63  64  67  68  69  70  71  72  73  74  75  76  77\n",
      "  79  80  81  82  83  85  86  87  88  89  90  91  92  93  94  95  96  97\n",
      "  98  99 101 102 103 104 106 107 108 110] TEST: [  6  45  46  53  65  66  78  84 100 105 109]\n",
      "TRAIN: [  0   1   3   4   5   6   8   9  10  11  12  14  15  16  17  19  20  21\n",
      "  22  23  24  25  26  27  28  29  30  31  32  33  34  35  36  37  38  39\n",
      "  40  41  42  43  44  45  46  47  48  49  50  52  53  54  55  56  57  58\n",
      "  59  60  61  62  63  64  65  66  67  68  69  70  71  72  74  75  76  77\n",
      "  78  79  81  82  83  84  85  86  87  89  90  92  93  94  95  96  98  99\n",
      " 100 101 103 104 105 106 107 108 109 110] TEST: [  2   7  13  18  51  73  80  88  91  97 102]\n",
      "TRAIN: [  0   1   2   3   4   5   6   7   8   9  10  11  12  13  14  15  16  17\n",
      "  18  19  20  21  22  23  24  26  27  28  29  30  31  32  33  34  36  37\n",
      "  38  39  40  41  42  43  44  45  46  47  49  50  51  52  53  54  55  56\n",
      "  57  58  59  61  62  63  65  66  67  68  69  70  71  72  73  74  75  76\n",
      "  77  78  79  80  81  82  83  84  85  87  88  90  91  92  94  95  97  98\n",
      " 100 101 102 103 104 105 106 107 108 109] TEST: [ 25  35  48  60  64  86  89  93  96  99 110]\n",
      "TRAIN: [  1   2   3   4   5   6   7   8   9  10  11  12  13  14  15  17  18  19\n",
      "  20  21  22  23  25  27  28  29  30  31  32  33  35  36  37  38  39  40\n",
      "  41  42  43  44  45  46  47  48  49  50  51  52  53  54  55  56  57  58\n",
      "  60  61  62  63  64  65  66  67  68  69  71  72  73  75  77  78  80  81\n",
      "  83  84  85  86  87  88  89  90  91  92  93  94  95  96  97  98  99 100\n",
      " 101 102 103 104 105 106 107 108 109 110] TEST: [ 0 16 24 26 34 59 70 74 76 79 82]\n",
      "TRAIN: [  0   1   2   4   5   6   7   9  11  13  14  15  16  17  18  19  20  21\n",
      "  22  24  25  26  27  28  29  30  31  32  33  34  35  36  37  38  39  40\n",
      "  42  43  44  45  46  47  48  49  50  51  53  55  56  57  58  59  60  61\n",
      "  62  63  64  65  66  68  69  70  71  73  74  75  76  77  78  79  80  81\n",
      "  82  83  84  85  86  87  88  89  90  91  92  93  94  95  96  97  98  99\n",
      " 100 101 102 104 105 106 107 108 109 110] TEST: [  3   8  10  12  23  41  52  54  67  72 103]\n"
     ]
    }
   ],
   "source": [
    "# rf = RandomForestRegressor()\n",
    "# kf = KFold(n_splits = 10, shuffle = True)\n",
    "# kf.get_n_splits(X)\n",
    "# print(kf)\n",
    "# for train_index, test_index in kf.split(X):\n",
    "#     print(\"TRAIN:\", train_index, \"TEST:\", test_index)\n",
    "#     X_train, X_test = X[train_index], X[test_index]\n",
    "#     y_train, y_test = y[train_index], y[test_index]\n",
    "# rf.fit(X_train, y_train)   \n",
    "# p = rf.predict(X_test)\n",
    "# p\n",
    "# 10 works best     \n",
    "#     print(\"TRAIN:\", train_index, \"TEST:\", test_index)\n",
    "#     X_train, X_test = X[train_index], X[test_index]\n",
    "#     y_train, y_test = y[train_index], y[test_index]\n",
    "kf = KFold(n_splits=10, shuffle=True, random_state=444)\n",
    "kf.get_n_splits(X)\n",
    "\n",
    "print(kf)\n",
    "\n",
    "for train_index, test_index in kf.split(X):\n",
    "    print(\"TRAIN:\", train_index, \"TEST:\", test_index)\n",
    "    X_train, X_test = X[train_index], X[test_index]\n",
    "    y_train, y_test = y[train_index], y[test_index]"
   ]
  },
  {
   "cell_type": "code",
   "execution_count": 36,
   "metadata": {},
   "outputs": [
    {
     "data": {
      "text/plain": [
       "27903.208777879914"
      ]
     },
     "execution_count": 36,
     "metadata": {},
     "output_type": "execute_result"
    }
   ],
   "source": [
    "# wrf_wne = RandomForestClassifier(class_weight=\"balanced\")\n",
    "# wrf_wne.fit(X_train, y_train)\n",
    "# y_pred = wrf_wne.predict(X_test)\n",
    "# print(mean_squared_error(y_test, y_pred))\n",
    "# print(classification_report(y_test, y_pred))\n",
    "\n",
    "rf = RandomForestRegressor()\n",
    "rf.fit(X_train, y_train)\n",
    "y_pred = rf.predict(X_test)\n",
    "\n",
    "mse_rf = mean_squared_error(y_test, y_pred)\n",
    "mse_rf"
   ]
  },
  {
   "cell_type": "code",
   "execution_count": 14,
   "metadata": {},
   "outputs": [],
   "source": [
    "# for train_index, test_index in kf.split(X):\n",
    "#     print(\"TRAIN:\", train_index, \"TEST:\", test_index)\n",
    "#     X_train, X_test = X[train_index], X[test_index]\n",
    "#     y_train, y_test = y[train_index], y[test_index]"
   ]
  },
  {
   "cell_type": "code",
   "execution_count": 267,
   "metadata": {},
   "outputs": [
    {
     "data": {
      "text/plain": [
       "6510.543054181818"
      ]
     },
     "execution_count": 267,
     "metadata": {},
     "output_type": "execute_result"
    }
   ],
   "source": [
    "tr = ('0 1 2   3   4   5   6   7   8   9  10 11  12  13  14  15  16  17 18  19  20  21  22  23  24  25  26  27  28  29  30  31  32  33  34  35 36  37  38  39  40  41  42  43  44  45  46  47  48  49  50  51  52  53  54  55  56  57  58  59  60  61  62  63  64  65  66  67  68  69  70  71 72  73  74  75  76  77  89  90  91  92  93  94  95  96  97  98  99 100 101 102 103 104 105 106 107 108 109 110')\n",
    "tr = re.sub(' +', ',', t)\n",
    "train_ind = tr.split(\",\")\n",
    "train_ind = [int(e) for e in train_ind]\n",
    "te = ('78 79 80 81 82 83 84 85 86 87 88')\n",
    "te = re.sub(' +', ',', te)\n",
    "test_ind = te.split(\",\")\n",
    "test_ind = [int(e) for e in test_ind]\n",
    "# train_ind\n",
    "# test_ind\n",
    "X_train, X_test = X[train_ind], X[test_ind]\n",
    "y_train, y_test = y[train_ind], y[test_ind]\n",
    "\n",
    "rf = RandomForestRegressor()\n",
    "rf.fit(X_train, y_train)\n",
    "p_rf = rf.predict(X_test)\n",
    "mse_rf = mean_squared_error(y_test, p_rf)\n",
    "mse"
   ]
  },
  {
   "cell_type": "code",
   "execution_count": 268,
   "metadata": {},
   "outputs": [],
   "source": [
    "\n",
    "# train_ind = [  0,   1,   2,   3,   4,   5,   6,   7,   8,   9,  10,  11,  12,  13,  14,  15, 16,  17,\n",
    "#   18,  19,  20,  21,  22,  23,  24,  25,  26,  27,  28,  29,  30,  31,  32,  33,  34,  35,\n",
    "#   36,  37,  38,  39,  40,  41,  42,  43,  44,  45,  46,  47,  48,  49,  50,  51,  52,  53,\n",
    "#   54,  55,  56,  57,  58,  59,  60,  61,  62,  63,  64,  65,  66,  67,  68,  69,  70,  71,\n",
    "#   72,  73,  74,  75,  76,  77,  78,  79,  80,  81,  82,  83,  84,  85,  86,  87,  88, 100,\n",
    "#  101, 102, 103, 104, 105, 106, 107, 108, 109, 110]\n",
    "# test_ind = [89, 90, 91, 92, 93, 94, 95, 96, 97, 98, 99]"
   ]
  },
  {
   "cell_type": "code",
   "execution_count": 269,
   "metadata": {},
   "outputs": [],
   "source": [
    "# X_train, X_test = X[train_ind], X[test_ind]\n",
    "# y_train, y_test = y[train_ind], y[test_ind]"
   ]
  },
  {
   "cell_type": "code",
   "execution_count": null,
   "metadata": {},
   "outputs": [],
   "source": []
  },
  {
   "cell_type": "markdown",
   "metadata": {},
   "source": [
    "## RandomForestRegressor"
   ]
  },
  {
   "cell_type": "code",
   "execution_count": 21,
   "metadata": {},
   "outputs": [
    {
     "data": {
      "text/plain": [
       "3792.98532909091"
      ]
     },
     "execution_count": 21,
     "metadata": {},
     "output_type": "execute_result"
    }
   ],
   "source": [
    "rf = RandomForestRegressor()\n",
    "rf.fit(X_train, y_train)\n",
    "y_pred = rf.predict(X_test)\n",
    "\n",
    "mse_rf = mean_squared_error(y_test, y_pred)\n",
    "mse_rf"
   ]
  },
  {
   "cell_type": "markdown",
   "metadata": {},
   "source": [
    "## ExtraTreeRegeressor "
   ]
  },
  {
   "cell_type": "code",
   "execution_count": 25,
   "metadata": {},
   "outputs": [],
   "source": [
    "extra_tree = ExtraTreeRegressor()\n",
    "reg = BaggingRegressor(extra_tree).fit(X_train, y_train)\n",
    "# >>> reg.score(X_test, y_test)"
   ]
  },
  {
   "cell_type": "code",
   "execution_count": 26,
   "metadata": {},
   "outputs": [],
   "source": [
    "p_reg = reg.predict(X_test)\n",
    "# df_reg = pd.DataFrame(p_reg)\n",
    "# df_reg['y_true'] = test[\"Weight\"].values\n",
    "# y_true = test[\"Weight\"].values"
   ]
  },
  {
   "cell_type": "code",
   "execution_count": 27,
   "metadata": {},
   "outputs": [
    {
     "data": {
      "text/plain": [
       "1040.6845454545457"
      ]
     },
     "execution_count": 27,
     "metadata": {},
     "output_type": "execute_result"
    }
   ],
   "source": [
    "mse = mean_squared_error(y_test, p_reg)\n",
    "mse"
   ]
  },
  {
   "cell_type": "code",
   "execution_count": 53,
   "metadata": {},
   "outputs": [
    {
     "data": {
      "text/plain": [
       "['reg.joblib']"
      ]
     },
     "execution_count": 53,
     "metadata": {},
     "output_type": "execute_result"
    }
   ],
   "source": [
    "joblib.dump(reg, \"reg.joblib\")"
   ]
  },
  {
   "cell_type": "markdown",
   "metadata": {},
   "source": [
    "## AdaBoostRegressor "
   ]
  },
  {
   "cell_type": "code",
   "execution_count": 54,
   "metadata": {},
   "outputs": [
    {
     "data": {
      "text/plain": [
       "AdaBoostRegressor(base_estimator=BaggingRegressor(base_estimator=ExtraTreeRegressor(ccp_alpha=0.0,\n",
       "                                                                                    criterion='mse',\n",
       "                                                                                    max_depth=None,\n",
       "                                                                                    max_features='auto',\n",
       "                                                                                    max_leaf_nodes=None,\n",
       "                                                                                    min_impurity_decrease=0.0,\n",
       "                                                                                    min_impurity_split=None,\n",
       "                                                                                    min_samples_leaf=1,\n",
       "                                                                                    min_samples_split=2,\n",
       "                                                                                    min_weight_fraction_leaf=0.0,\n",
       "                                                                                    random_state=None,\n",
       "                                                                                    splitter='random'),\n",
       "                                                  bootstrap=True,\n",
       "                                                  bootstrap_features=False,\n",
       "                                                  max_features=1.0,\n",
       "                                                  max_samples=1.0,\n",
       "                                                  n_estimators=10, n_jobs=None,\n",
       "                                                  oob_score=False,\n",
       "                                                  random_state=None, verbose=0,\n",
       "                                                  warm_start=False),\n",
       "                  learning_rate=1.0, loss='exponential', n_estimators=50,\n",
       "                  random_state=None)"
      ]
     },
     "execution_count": 54,
     "metadata": {},
     "output_type": "execute_result"
    }
   ],
   "source": [
    "ada = AdaBoostRegressor(base_estimator = reg, loss = 'exponential')\n",
    "ada.fit(X_train, y_train)"
   ]
  },
  {
   "cell_type": "code",
   "execution_count": 55,
   "metadata": {},
   "outputs": [],
   "source": [
    "p_ada = ada.predict(X_test)\n",
    "# df_ada = pd.DataFrame(p_ada)\n",
    "# df_ada['y_true'] = test[\"Weight\"].values\n",
    "# y_true = test[\"Weight\"].values"
   ]
  },
  {
   "cell_type": "code",
   "execution_count": 56,
   "metadata": {},
   "outputs": [],
   "source": [
    "# df_ada"
   ]
  },
  {
   "cell_type": "code",
   "execution_count": 57,
   "metadata": {},
   "outputs": [
    {
     "data": {
      "text/plain": [
       "2881.321754545454"
      ]
     },
     "execution_count": 57,
     "metadata": {},
     "output_type": "execute_result"
    }
   ],
   "source": [
    "mse = mean_squared_error(y_test, p_ada)\n",
    "mse"
   ]
  },
  {
   "cell_type": "code",
   "execution_count": 76,
   "metadata": {},
   "outputs": [
    {
     "ename": "NameError",
     "evalue": "name 'dump' is not defined",
     "output_type": "error",
     "traceback": [
      "\u001b[0;31m---------------------------------------------------------------------------\u001b[0m",
      "\u001b[0;31mNameError\u001b[0m                                 Traceback (most recent call last)",
      "\u001b[0;32m<ipython-input-76-b97231644981>\u001b[0m in \u001b[0;36m<module>\u001b[0;34m\u001b[0m\n\u001b[0;32m----> 1\u001b[0;31m \u001b[0mdump\u001b[0m\u001b[0;34m(\u001b[0m\u001b[0mada\u001b[0m\u001b[0;34m,\u001b[0m \u001b[0;34m\"ada_reg.joblib\"\u001b[0m\u001b[0;34m)\u001b[0m\u001b[0;34m\u001b[0m\u001b[0;34m\u001b[0m\u001b[0m\n\u001b[0m",
      "\u001b[0;31mNameError\u001b[0m: name 'dump' is not defined"
     ]
    }
   ],
   "source": [
    "dump(ada, \"ada_reg.joblib\")"
   ]
  },
  {
   "cell_type": "markdown",
   "metadata": {},
   "source": [
    "## GradientBoostingClassifier"
   ]
  },
  {
   "cell_type": "code",
   "execution_count": 58,
   "metadata": {},
   "outputs": [
    {
     "data": {
      "text/plain": [
       "GradientBoostingRegressor(alpha=0.9, ccp_alpha=0.0, criterion='friedman_mse',\n",
       "                          init=None, learning_rate=0.1, loss='ls', max_depth=3,\n",
       "                          max_features=None, max_leaf_nodes=None,\n",
       "                          min_impurity_decrease=0.0, min_impurity_split=None,\n",
       "                          min_samples_leaf=1, min_samples_split=2,\n",
       "                          min_weight_fraction_leaf=0.0, n_estimators=100,\n",
       "                          n_iter_no_change=None, presort='deprecated',\n",
       "                          random_state=None, subsample=1.0, tol=0.0001,\n",
       "                          validation_fraction=0.1, verbose=0, warm_start=False)"
      ]
     },
     "execution_count": 58,
     "metadata": {},
     "output_type": "execute_result"
    }
   ],
   "source": [
    "gbr = GradientBoostingRegressor()\n",
    "gbr.fit(X_train,y_train)"
   ]
  },
  {
   "cell_type": "code",
   "execution_count": 59,
   "metadata": {},
   "outputs": [],
   "source": [
    "p_gbr = gbr.predict(X_test)\n",
    "# df_gbr = pd.DataFrame(p_gbr)\n",
    "# df_gbr['y_true'] = test[\"Weight\"].values\n",
    "# y_true = test[\"Weight\"].values"
   ]
  },
  {
   "cell_type": "code",
   "execution_count": 60,
   "metadata": {},
   "outputs": [
    {
     "data": {
      "text/plain": [
       "3239.0231466570344"
      ]
     },
     "execution_count": 60,
     "metadata": {},
     "output_type": "execute_result"
    }
   ],
   "source": [
    "mse = mean_squared_error(y_test, p_gbr)\n",
    "mse"
   ]
  },
  {
   "cell_type": "code",
   "execution_count": null,
   "metadata": {},
   "outputs": [],
   "source": []
  }
 ],
 "metadata": {
  "kernelspec": {
   "display_name": "hw18-kern",
   "language": "python",
   "name": "python3"
  },
  "language_info": {
   "codemirror_mode": {
    "name": "ipython",
    "version": 3
   },
   "file_extension": ".py",
   "mimetype": "text/x-python",
   "name": "python",
   "nbconvert_exporter": "python",
   "pygments_lexer": "ipython3",
   "version": "3.7.4"
  }
 },
 "nbformat": 4,
 "nbformat_minor": 4
}
